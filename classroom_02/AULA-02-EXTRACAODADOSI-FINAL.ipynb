{
 "cells": [
  {
   "cell_type": "markdown",
   "metadata": {},
   "source": [
    "# Revisando os Conceitos da Aula Anterior\n"
   ]
  },
  {
   "cell_type": "markdown",
   "metadata": {},
   "source": [
    "## ETL e ELT\n"
   ]
  },
  {
   "cell_type": "markdown",
   "metadata": {},
   "source": [
    "#### ETL -> Extract Transform and Load\n",
    "\n",
    "- Dados ingeridos já de acordo com sua finalidade\n",
    "- Sempre que adquiro um dado já aplico as transformações de negócio necessárias\n",
    "- Necessita de um conhecimento Prévio da Finalidade do Dado\n",
    "\n",
    "#### ELT -> Extract Load and Transform\n",
    "\n",
    "- Todo dado é válido\n",
    "- Armazenamento do dado em seu estado original\n",
    "- Não necessitamos conhecer a finalidade para a aquisição de um dado\n",
    "- Torna mais flexível e reaproveitável o uso do dado ingerido\n",
    "- Permite níveis de refinamento diferentes do dado disponíveis no ambiente\n"
   ]
  },
  {
   "cell_type": "markdown",
   "metadata": {},
   "source": [
    "## APIs\n",
    "\n",
    "- Biblioteca Python Requests\n",
    "\n",
    "  - > %pip install requests\n",
    "  - > import requests\n",
    "\n",
    "- APIs são interfaces que nos permitem conversar com outros sistemas e contextos\n",
    "\n",
    "- Principais verbos HTTP\n",
    "\n",
    "  - GET\n",
    "  - POST\n",
    "  - PUT\n",
    "  - PATCH\n",
    "  - DELETE\n",
    "\n",
    "- Introdução aos Códigos de Resposta HTTP\n",
    "  - 200 - 299 - OK\n",
    "  - 400 - 499 - Erro por parte do Cliente\n",
    "  - 500 - 599 - Erro por parte do Servidor\n"
   ]
  },
  {
   "cell_type": "markdown",
   "metadata": {},
   "source": [
    "# EXTRAÇÃO DE DADOS I - AULA 02\n"
   ]
  },
  {
   "cell_type": "code",
   "execution_count": null,
   "metadata": {
    "tags": [],
    "vscode": {
     "languageId": "plaintext"
    }
   },
   "outputs": [],
   "source": [
    "%pip install requests"
   ]
  },
  {
   "cell_type": "code",
   "execution_count": null,
   "metadata": {
    "tags": []
   },
   "outputs": [],
   "source": [
    "import requests"
   ]
  },
  {
   "cell_type": "code",
   "execution_count": null,
   "metadata": {
    "tags": []
   },
   "outputs": [],
   "source": [
    "response = requests.get(url=\"https://fakestoreapi.com/products\")"
   ]
  },
  {
   "cell_type": "markdown",
   "metadata": {},
   "source": [
    "### Formatando Resposta de uma Requisição\n",
    "\n",
    "Neste exemplo nosso objetivo é obter a resposta de nossa requisição como um dict\n"
   ]
  },
  {
   "cell_type": "code",
   "execution_count": null,
   "metadata": {
    "tags": []
   },
   "outputs": [],
   "source": [
    "import json\n",
    "\n",
    "text_content = response.text\n",
    "\n",
    "print(f\"O tipo da resposta é {type(text_content)}\")\n",
    "\n",
    "json_content_parsed = json.loads(text_content)\n",
    "\n",
    "print(f\"O tipo após a conversão utilizando json.loads é {type(json_content_parsed)}\")"
   ]
  },
  {
   "cell_type": "code",
   "execution_count": null,
   "metadata": {
    "tags": []
   },
   "outputs": [],
   "source": [
    "json_content = response.json()\n",
    "print(f\"O tipo de dado utilizando a função json é {type(json_content)}\")"
   ]
  },
  {
   "cell_type": "markdown",
   "metadata": {},
   "source": [
    "### Tratando Retornos com Erro\n",
    "\n",
    "- Códigos 500 e 400\n"
   ]
  },
  {
   "cell_type": "code",
   "execution_count": null,
   "metadata": {},
   "outputs": [],
   "source": [
    "response = requests.get(url=\"https://fakestoreapi.com/productsaaaaaaaa\")\n",
    "print(f\"O código de retorno é: {response.status_code}\")"
   ]
  },
  {
   "cell_type": "code",
   "execution_count": null,
   "metadata": {
    "tags": []
   },
   "outputs": [],
   "source": [
    "## Quando tentamos utilizar o método json porém o retorno é diferente de um json, temos uma excessão, \n",
    "## porém ainda é possível utilizar o método text para obter o resultado da execução\n",
    "response.json()"
   ]
  },
  {
   "cell_type": "code",
   "execution_count": null,
   "metadata": {
    "tags": []
   },
   "outputs": [],
   "source": [
    "response.text"
   ]
  },
  {
   "cell_type": "code",
   "execution_count": null,
   "metadata": {
    "tags": []
   },
   "outputs": [],
   "source": [
    "def gerencia_requisicao(url: str, endpoint: str, current_retry: int=0, max_retries: int=0):\n",
    "\n",
    "    urls = [\n",
    "        \"https://fakestoreapi.com/productsa\", \n",
    "        \"https://fakestoreapi.com/productsb\", \n",
    "        \"https://fakestoreapi.com/products\"\n",
    "    ]\n",
    "    \n",
    "    response = requests.get(url=urls[current_retry])\n",
    "    \n",
    "    if (response.status_code >= 400 and response.status_code <= 499) or (response.status_code >= 500 and response.status_code <= 599):\n",
    "        if current_retry < max_retries:\n",
    "            return gerencia_requisicao(\n",
    "                url=url,\n",
    "                endpoint=endpoint,\n",
    "                current_retry=current_retry+1,\n",
    "                max_retries=max_retries\n",
    "            )\n",
    "        else:\n",
    "            return \"error\", {\n",
    "                \"code\": response.status_code,\n",
    "                \"message\":  response.text\n",
    "            }\n",
    "\n",
    "\n",
    "    return \"success\", response.text"
   ]
  },
  {
   "cell_type": "code",
   "execution_count": null,
   "metadata": {
    "tags": []
   },
   "outputs": [],
   "source": [
    "import json\n",
    "\n",
    "response = gerencia_requisicao(\n",
    "    url=\"https://fakestoreapi.com\",\n",
    "    endpoint=\"products\",\n",
    "    max_retries=3\n",
    ")"
   ]
  },
  {
   "cell_type": "code",
   "execution_count": null,
   "metadata": {
    "tags": []
   },
   "outputs": [],
   "source": [
    "import time\n",
    "\n",
    "def gerencia_requisicao_com_espera(url: str, endpoint: str, current_retry: int=0, max_retries: int=0):\n",
    "\n",
    "    urls = [\n",
    "        \"https://fakestoreapi.com/productsa\", \n",
    "        \"https://fakestoreapi.com/productsb\", \n",
    "        \"https://fakestoreapi.com/products\"\n",
    "    ]\n",
    "    \n",
    "    response = requests.get(url=urls[current_retry])\n",
    "    \n",
    "    if (response.status_code >= 400 and response.status_code <= 499) or (response.status_code >= 500 and response.status_code <= 599):\n",
    "        if current_retry < max_retries:\n",
    "\n",
    "            time.sleep(5)\n",
    "            \n",
    "            return gerencia_requisicao(\n",
    "                url=url,\n",
    "                endpoint=endpoint,\n",
    "                current_retry=current_retry+1,\n",
    "                max_retries=max_retries\n",
    "            )\n",
    "        else:\n",
    "            return \"error\", {\n",
    "                \"code\": response.status_code,\n",
    "                \"message\":  response.text\n",
    "            }\n",
    "\n",
    "\n",
    "    return \"success\", response.text"
   ]
  },
  {
   "cell_type": "code",
   "execution_count": null,
   "metadata": {
    "tags": []
   },
   "outputs": [],
   "source": [
    "import datetime\n",
    "\n",
    "gerencia_requisicao_com_espera(\n",
    "    url=\"https://fakestoreapi.com\",\n",
    "    endpoint=\"products\",\n",
    "    max_retries=3\n",
    ")"
   ]
  },
  {
   "cell_type": "markdown",
   "metadata": {},
   "source": [
    "### JSON\n",
    "\n",
    "Listas = []\n",
    "Objetos = {}\n",
    "Valores = 1, \"\", null\n",
    "\n",
    "{\n",
    "\"id\": 1,\n",
    "\"name\": \"John\",\n",
    "\"notas\": [5.5, 4.6, 7.2]\n",
    "}\n",
    "\n",
    "{\n",
    "\"id\": 1,\n",
    "\"name\": \"John\",\n",
    "\"notas\": [\n",
    "{\n",
    "\"materia\": \"extracao dados I\",\n",
    "\"valor\": 10.0\n",
    "}\n",
    "]\n",
    "}\n"
   ]
  },
  {
   "cell_type": "markdown",
   "metadata": {},
   "source": [
    "### Autenticação\n",
    "\n",
    "Por que uma API utiliza autenticação ?\n",
    "\n",
    "- Garantir que o usuário só acesse seus próprios dados\n",
    "- Garantir que o usuário só acesses recursos específicos\n",
    "- Auditoria de acesso\n",
    "\n",
    "Principais Tipos de Autenticação\n",
    "\n",
    "- Baerer Token\n",
    "- OAuth\n",
    "- API Key\n",
    "\n",
    "- Baerer Token\n",
    "- API Key\n",
    "\n",
    "Passados no header da requisição\n"
   ]
  },
  {
   "cell_type": "code",
   "execution_count": null,
   "metadata": {
    "tags": []
   },
   "outputs": [],
   "source": [
    "import json"
   ]
  },
  {
   "cell_type": "code",
   "execution_count": null,
   "metadata": {
    "tags": []
   },
   "outputs": [],
   "source": [
    "def autenticar(login, senha):\n",
    "    login_response = requests.post(\n",
    "        url=\"https://dummyjson.com/auth/login\",\n",
    "        headers={\"Content-Type\": \"application/json\"},\n",
    "        data=json.dumps({\n",
    "            \"username\": login,\n",
    "            \"password\": senha,\n",
    "            \"expiresInMins\": 1\n",
    "        })\n",
    "    )\n",
    "    \n",
    "    return login_response.json()['token']\n",
    "\n",
    "access_token = autenticar(login=\"kminchelle\", senha=\"0lelplR\")"
   ]
  },
  {
   "cell_type": "code",
   "execution_count": null,
   "metadata": {
    "tags": []
   },
   "outputs": [],
   "source": [
    "url_base = \"https://dummyjson.com/auth/\"\n",
    "\n",
    "authorization_header = {\n",
    "    \"Authorization\": f\"Bearer {access_token}\", \n",
    "    \"Content-Type\": \"application/json\"\n",
    "}"
   ]
  },
  {
   "cell_type": "code",
   "execution_count": null,
   "metadata": {
    "tags": []
   },
   "outputs": [],
   "source": [
    "## Caso de Sucesso com Authenticação\n",
    "\n",
    "authenticated_products_response = requests.get(\n",
    "    url=f\"{url_base}/products\",\n",
    "    headers=authorization_header\n",
    ")\n",
    "\n",
    "print(f\"Status Code: {authenticated_products_response.status_code}\")\n",
    "print(f\"Content: {authenticated_products_response.text}\")"
   ]
  },
  {
   "cell_type": "code",
   "execution_count": null,
   "metadata": {
    "tags": []
   },
   "outputs": [],
   "source": [
    "authorization_header_errado = {\n",
    "    \"Authorization\": f\"Bearer 123654646156475656498789656\", \n",
    "    \"Content-Type\": \"application/json\"\n",
    "}\n",
    "\n",
    "authenticated_products_response = requests.get(\n",
    "    url=f\"{url_base}/products\",\n",
    "    headers=authorization_header_errado\n",
    ")\n",
    "\n",
    "print(f\"Status Code: {authenticated_products_response.status_code}\")"
   ]
  },
  {
   "cell_type": "markdown",
   "metadata": {},
   "source": [
    "## Implementação do Fluxo de Re-autenticação\n"
   ]
  },
  {
   "cell_type": "code",
   "execution_count": null,
   "metadata": {
    "tags": []
   },
   "outputs": [],
   "source": [
    "def constroi_authentication_headers():\n",
    "    access_token = autenticar(login=\"kminchelle\", senha=\"0lelplR\")\n",
    "    \n",
    "    return {\n",
    "        \"Authorization\": f\"Bearer {access_token}\",\n",
    "        \"Content-Type\": \"application/json\"\n",
    "    }"
   ]
  },
  {
   "cell_type": "code",
   "execution_count": null,
   "metadata": {
    "tags": []
   },
   "outputs": [],
   "source": [
    "def gerencia_requisicao_authenticada(url: str, authorization_header: dict, max_retries: int, current_retry: int =0):\n",
    "\n",
    "    response = requests.get(\n",
    "        url=url,\n",
    "        headers=authorization_header\n",
    "    )\n",
    "    \n",
    "    try:\n",
    "        response_content = response.json()\n",
    "        \n",
    "        if response.status_code == 401:\n",
    "            if current_retry < max_retries:\n",
    "                if response_content['name'] == \"TokenExpiredError\":\n",
    "                    return gerencia_requisicao_authenticada(\n",
    "                        url=url,\n",
    "                        authorization_header=constroi_authentication_headers(),\n",
    "                        max_retries=max_retries,\n",
    "                        current_retry=current_retry+1\n",
    "                    )\n",
    "            else:\n",
    "                print(f\"Não foi possível recuperar a requisição após o código. Código: {response.status_code}\")\n",
    "          \n",
    "        return response_content\n",
    "    except Exception as ex:\n",
    "        print(f\"Fluxo de exceção. Detalhe: {ex}\")"
   ]
  },
  {
   "cell_type": "code",
   "execution_count": null,
   "metadata": {
    "tags": []
   },
   "outputs": [],
   "source": [
    "gerencia_requisicao_authenticada(url=f\"{url_base}/products\", authorization_header=authorization_header, max_retries=3)"
   ]
  },
  {
   "cell_type": "markdown",
   "metadata": {},
   "source": [
    "## Acessando apenas os recursos desejados em uma API\n"
   ]
  },
  {
   "cell_type": "markdown",
   "metadata": {},
   "source": [
    "Filtrando recursos por Request Path\n"
   ]
  },
  {
   "cell_type": "code",
   "execution_count": null,
   "metadata": {},
   "outputs": [],
   "source": [
    "def constroi_authentication_headers():\n",
    "    access_token = autenticar(login=\"kminchelle\", senha=\"0lelplR\")\n",
    "    \n",
    "    return {\n",
    "        \"Authorization\": f\"Bearer {access_token}\",\n",
    "        \"Content-Type\": \"application/json\"\n",
    "    }"
   ]
  },
  {
   "cell_type": "code",
   "execution_count": null,
   "metadata": {
    "tags": []
   },
   "outputs": [],
   "source": [
    "# Query params são definidos pelo caracter \"?\" e são combinados com outros critérios pelo caractere \"&\"\n",
    "# transaction_date\n",
    "#?transaction_date=\"2023-09-18\"\n",
    "\n",
    "query_reponse = requests.get(url=\"https://dummyjson.com/auth/products/search?q=phone\", headers=constroi_authentication_headers())\n",
    "query_reponse.json()"
   ]
  },
  {
   "cell_type": "code",
   "execution_count": null,
   "metadata": {
    "tags": []
   },
   "outputs": [],
   "source": [
    "## Trabalhando com Paginação\n",
    "## Parametros de Paginação me ajudam e definir qual intervalo de dados eu desejo consumir\n",
    "## Onde é util:\n",
    "## 5.000.000\n",
    "## Lambda 1KB\n",
    "## 5.000.000 - API pode demorar muito pra responder, a API pode estar programada pra não responder tudo isso, ou programa pode não ter\n",
    "## Capacidade de processar tudo isso\n",
    "\n",
    "## 0  Skip\n",
    "## 10 limit\n",
    "## 100 total\n",
    "\n",
    "## 10 skip \n",
    "## 10 limit\n",
    "## 100 total\n",
    "\n",
    "## 20 skip \n",
    "## 10 limit\n",
    "## 100 total\n",
    "\n",
    "## 90 skip \n",
    "## 10 limit\n",
    "## 100 total\n",
    "\n",
    "\n",
    "\n",
    "response_paginado = requests.get(\"https://dummyjson.com/auth/products?limit=10&skip=10&select=title,price\", headers=constroi_authentication_headers())\n",
    "\n",
    "response_paginado.json()"
   ]
  }
 ],
 "metadata": {
  "kernelspec": {
   "display_name": "Python 3 (ipykernel)",
   "language": "python",
   "name": "python3"
  },
  "language_info": {
   "codemirror_mode": {
    "name": "ipython",
    "version": 3
   },
   "file_extension": ".py",
   "mimetype": "text/x-python",
   "name": "python",
   "nbconvert_exporter": "python",
   "pygments_lexer": "ipython3",
   "version": "3.10.10"
  }
 },
 "nbformat": 4,
 "nbformat_minor": 4
}
