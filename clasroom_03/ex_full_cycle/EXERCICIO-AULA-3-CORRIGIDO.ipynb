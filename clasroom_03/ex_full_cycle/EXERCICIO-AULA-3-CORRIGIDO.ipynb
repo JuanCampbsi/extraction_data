{
 "cells": [
  {
   "cell_type": "markdown",
   "id": "13a6d158-b911-482d-9e75-dfebb833f7f4",
   "metadata": {},
   "source": [
    "# Exercício de Integração ETL, ELT, APIs e Arquivos\n"
   ]
  },
  {
   "cell_type": "markdown",
   "id": "20107967-cfe2-4f0a-bf79-71a92bdfb549",
   "metadata": {
    "tags": []
   },
   "source": [
    "## Trabalho em Grupo\n",
    "\n",
    "Você trabalha em um e-commerce de variados produtos, e no último mês os gerentes operacionais da companhia notaram que\n",
    "houve uma variação muito grande em seus estoques por períodos de até 24h, cujos produtos, voltavam ao estoque\n",
    "no dia seguinte o que não caracterizava uma venda concretizada.\n",
    "Sabendo disso um dos diretores sugeriu um estudo sobre os carrinhos em aberto, e qual o perfil dos usuários que deixavam seus carrinhos em aberto, e para isso fora criada uma demanda para seu time.\n",
    "\n",
    "Para resolver esta demanda, você e seu time deverão realizar a ingestão dos dados de:\n",
    "\n",
    "- Usuários\n",
    "- Carrinhos\n",
    "\n",
    "Estes dados poderão ser obtidos através dos seguintes endpoints:\n",
    "\n",
    "- Usuários: GET https://dummyjson.com/auth/users\n",
    "- Carrinhos: GET https://dummyjson.com/auth/carts\n",
    "\n",
    "Lembrando que estes são endpoints seguros então você deverá realizar a autenticação através do seguinte endpoint: https://dummyjson.com/auth/login\n",
    "\n",
    "Lembre-se de verificar a documentação para obter mais detalhes do funcionamento dos endpoints https://dummyjson.com/docs/auth\n",
    "\n",
    "Após isso, os passos de tratamento do dado, serão:\n",
    "\n",
    "1. Após consumidos os dados, você deverá persistí-los utilizando a técnica aprendida em aula em uma pastas chamada raw no formato json\n",
    "\n",
    "2. Consumir sua camada raw e criar uma nova entidade que relacione os clientes aos carrinhos através do atributo userId do seu carrinho e o atribute id da tabela users, feito isso gravar o resultado dessa agregação em uma pasta chamda kitchen\n",
    "\n",
    "3. Por fim você deverá contemplar se os dados gerados são capazes de responder as seguintes perguntas:\n",
    "\n",
    "   - Qual o estado de residencia possui clientes com mais carrinhos em aberto ?\n",
    "   - Qual a idade dos usuários com mais carrinhos em aberto ?\n",
    "   - Quais os produtos que mais aparecem em carrinhos em aberto ?\n",
    "\n",
    "OBS: **Não se preocupe em fazer uma análise aprofundade, o intuito desta atividade é exercitar a construção de um fluxo de ETL ou ELT utilizando os conceitos aprendidos em sala de aula, então concentrem seus esforços no fluxo de dados**\n"
   ]
  },
  {
   "cell_type": "code",
   "execution_count": null,
   "id": "6d70e347-68e2-4047-8128-4e2586897ad9",
   "metadata": {
    "tags": []
   },
   "outputs": [],
   "source": [
    "%pip install requests"
   ]
  },
  {
   "cell_type": "code",
   "execution_count": null,
   "id": "568fd012-6074-4e18-b67b-cf02af28fb1f",
   "metadata": {
    "tags": []
   },
   "outputs": [],
   "source": [
    "import requests\n",
    "import json\n",
    "\n",
    "\n",
    "class StoreAPIClient():\n",
    "\n",
    "    def __init__(self, username, password):\n",
    "        self.username = username\n",
    "        self.password = password\n",
    "\n",
    "    def __authentica(self):\n",
    "        request_body = {\n",
    "            \"username\": self.username,\n",
    "            \"password\": self.password,\n",
    "            \"expiresInMins\": 1\n",
    "        }\n",
    "\n",
    "        response = requests.post(\n",
    "            url=\"https://dummyjson.com/auth/login\",\n",
    "            headers={\"Content-Type\": \"application/json\"},\n",
    "            data=json.dumps(request_body)\n",
    "        )\n",
    "\n",
    "        return response.json()[\"token\"]\n",
    "\n",
    "    def __get_headers(self):\n",
    "        access_token = self.__authentica()\n",
    "\n",
    "        return {\n",
    "            \"Authorization\": f\"Bearer {access_token}\",\n",
    "            \"Content-Type\": \"application/json\"\n",
    "        }\n",
    "\n",
    "    def get_users(self):\n",
    "        response = requests.get(\n",
    "            url=\"https://dummyjson.com/auth/users\",\n",
    "            headers=self.__get_headers()\n",
    "        )\n",
    "\n",
    "        return response.json()\n",
    "\n",
    "    def get_carts(self):\n",
    "        response = requests.get(\n",
    "            url=\"https://dummyjson.com/auth/carts\",\n",
    "            headers=self.__get_headers()\n",
    "        )\n",
    "\n",
    "        return response.json()"
   ]
  },
  {
   "cell_type": "code",
   "execution_count": null,
   "id": "f9931008-f20d-449a-968a-a5dfc426ab7a",
   "metadata": {
    "tags": []
   },
   "outputs": [],
   "source": [
    "import pandas as pd\n",
    "import json\n",
    "\n",
    "\n",
    "class Pipeline():\n",
    "\n",
    "    def __init__(self):\n",
    "        self.__raw_path = \"../../data/AULA03/output/raw\"\n",
    "        self.__kitchen_path = \"../../data/AULA03/output/kitchen\"\n",
    "        self.__store_api_client = StoreAPIClient(\n",
    "            username=\"kminchelle\", password=\"0lelplR\")\n",
    "\n",
    "    def __extract_and_load(self, data: dict, target_path: str, target_format: str):\n",
    "        print(\n",
    "            f\"Pipeline.__extract_and_load target_path={target_path} with format={target_format}\")\n",
    "\n",
    "        data_str: str = json.dumps(data)\n",
    "\n",
    "        df_data = pd.read_json(data_str)\n",
    "\n",
    "        self.__load(\n",
    "            df=df_data,\n",
    "            path=target_path,\n",
    "            format=target_format\n",
    "        )\n",
    "\n",
    "        return df_data\n",
    "\n",
    "    def __load(self, df: pd.DataFrame, format: str, path: str):\n",
    "        normalized_format = format.upper()\n",
    "\n",
    "        if normalized_format == \"JSON\":\n",
    "            df.to_json(path, orient=\"records\", mode=\"w\")\n",
    "        elif normalized_format == \"PARQUET\":\n",
    "            df.to_parquet(path, index=False, compression=\"gzip\")\n",
    "\n",
    "    def __transform(self, df_carts: pd.DataFrame, df_users: pd.DataFrame, target_path: str, target_format: str):\n",
    "        print(\"Pipeline.__transform\")\n",
    "\n",
    "        df_carts[\"idCart\"] = df_carts[\"id\"]\n",
    "        df_result = df_carts.merge(\n",
    "            df_users, left_on=\"userId\", right_on=\"id\", how=\"inner\")\n",
    "\n",
    "        df_result_transformed = df_result[[\n",
    "            \"userId\", \"address\", \"age\", \"products\", \"idCart\"]]\n",
    "\n",
    "        # Extract State from Users\n",
    "        df_result_transformed[\"state\"] = df_result_transformed[\"address\"].apply(\n",
    "            lambda obj: obj[\"state\"]).reset_index().address\n",
    "\n",
    "        # Extract Products From Carts\n",
    "        df_result_transformed = df_result_transformed.explode(\"products\")\n",
    "        df_result_transformed[\"product_name\"] = df_result_transformed[\"products\"].apply(\n",
    "            lambda obj: obj[\"title\"])\n",
    "\n",
    "        df_result_transformed = df_result_transformed[[\n",
    "            \"userId\", \"age\", \"state\", \"idCart\", \"product_name\"]]\n",
    "\n",
    "        self.__load(\n",
    "            df=df_result_transformed,\n",
    "            format=target_format,\n",
    "            path=target_path\n",
    "        )\n",
    "\n",
    "    def run(self):\n",
    "        users = self.__store_api_client.get_users()[\"users\"]\n",
    "        carts = self.__store_api_client.get_carts()[\"carts\"]\n",
    "\n",
    "        # Extract Users\n",
    "        df_users = self.__extract_and_load(\n",
    "            data=users,\n",
    "            target_path=f\"{self.__raw_path}/users.json\",\n",
    "            target_format=\"json\"\n",
    "        )\n",
    "\n",
    "        # Extract Carts\n",
    "        df_carts = self.__extract_and_load(\n",
    "            data=carts,\n",
    "            target_path=f\"{self.__raw_path}/carts.json\",\n",
    "            target_format=\"json\"\n",
    "        )\n",
    "\n",
    "        # Apply Data Transformations\n",
    "        self.__transform(\n",
    "            df_carts=df_carts,\n",
    "            df_users=df_users,\n",
    "            target_path=f\"{self.__kitchen_path}/products_by_customer.parquet.gz\",\n",
    "            target_format=\"parquet\"\n",
    "        )"
   ]
  },
  {
   "cell_type": "code",
   "execution_count": null,
   "id": "51d30cc3-5f57-4061-afa1-cc8273ad3e42",
   "metadata": {
    "tags": []
   },
   "outputs": [],
   "source": [
    "# Executando Nosso Pipeline\n",
    "Pipeline().run()"
   ]
  },
  {
   "cell_type": "code",
   "execution_count": null,
   "id": "20e51263-9084-4dd2-b944-f5c3343da021",
   "metadata": {
    "tags": []
   },
   "outputs": [],
   "source": [
    "import pandas as pd\n",
    "\n",
    "products_by_customer = pd.read_parquet(\n",
    "    \"../../data/AULA03/output/kitchen/products_by_customer.parquet.gz\")\n",
    "\n",
    "df_states = products_by_customer.groupby(\n",
    "    [\"state\"])[\"idCart\"].count().reset_index(name=\"carts\")\n",
    "\n",
    "display(df_states)"
   ]
  },
  {
   "cell_type": "code",
   "execution_count": null,
   "id": "b575912c-4659-4d68-b198-61d1d772fc11",
   "metadata": {
    "tags": []
   },
   "outputs": [],
   "source": [
    "import pandas as pd\n",
    "\n",
    "products_by_customer = pd.read_parquet(\n",
    "    \"../../data/AULA03/output/kitchen/products_by_customer.parquet.gz\")\n",
    "\n",
    "df_ages = products_by_customer.groupby(\n",
    "    [\"age\"])[\"idCart\"].count().reset_index(name=\"carts\")\n",
    "\n",
    "display(df_ages)"
   ]
  },
  {
   "cell_type": "code",
   "execution_count": null,
   "id": "557c7224-9c65-450f-b6b6-0cda019f1fe5",
   "metadata": {
    "tags": []
   },
   "outputs": [],
   "source": [
    "import pandas as pd\n",
    "\n",
    "products_by_customer = pd.read_parquet(\n",
    "    \"../../data/AULA03/output/kitchen/products_by_customer.parquet.gz\")\n",
    "\n",
    "df_products = products_by_customer.groupby(\n",
    "    [\"product_name\"])[\"product_name\"].count().reset_index(name=\"occurences\")\n",
    "\n",
    "display(df_products)"
   ]
  }
 ],
 "metadata": {
  "kernelspec": {
   "display_name": "Python 3 (ipykernel)",
   "language": "python",
   "name": "python3"
  },
  "language_info": {
   "codemirror_mode": {
    "name": "ipython",
    "version": 3
   },
   "file_extension": ".py",
   "mimetype": "text/x-python",
   "name": "python",
   "nbconvert_exporter": "python",
   "pygments_lexer": "ipython3",
   "version": "3.10.13"
  }
 },
 "nbformat": 4,
 "nbformat_minor": 5
}
