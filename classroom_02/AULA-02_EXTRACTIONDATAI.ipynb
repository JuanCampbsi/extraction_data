{
 "cells": [
  {
   "cell_type": "markdown",
   "metadata": {},
   "source": [
    "# Revisando os Conceitos da Aula Anterior\n"
   ]
  },
  {
   "cell_type": "markdown",
   "metadata": {},
   "source": [
    "## ETL e ELT\n"
   ]
  },
  {
   "cell_type": "markdown",
   "metadata": {},
   "source": [
    "#### ETL -> Extract Transform and Load\n",
    "\n",
    "- Dados ingeridos já de acordo com sua finalidade\n",
    "- Sempre que adquiro um dado já aplico as transformações de negócio necessárias\n",
    "- Necessita de um conhecimento Prévio da Finalidade do Dado\n",
    "\n",
    "#### ELT -> Extract Load and Transform\n",
    "\n",
    "- Todo dado é válido\n",
    "- Armazenamento do dado em seu estado original\n",
    "- Não necessitamos conhecer a finalidade para a aquisição de um dado\n",
    "- Torna mais flexível e reaproveitável o uso do dado ingerido\n",
    "- Permite níveis de refinamento diferentes do dado disponíveis no ambiente\n"
   ]
  },
  {
   "cell_type": "markdown",
   "metadata": {},
   "source": [
    "## APIs\n",
    "\n",
    "- Biblioteca Python Requests\n",
    "\n",
    "  - > %pip install requests\n",
    "  - > import requests\n",
    "\n",
    "- APIs são interfaces que nos permitem conversar com outros sistemas e contextos\n",
    "\n",
    "- Principais verbos HTTP\n",
    "\n",
    "  - GET\n",
    "  - POST\n",
    "  - PUT\n",
    "  - PATCH\n",
    "  - DELETE\n",
    "\n",
    "- Introdução aos Códigos de Resposta HTTP\n",
    "  - 200 - 299 - OK\n",
    "  - 400 - 499 - Erro por parte do Cliente\n",
    "  - 500 - 599 - Erro por parte do Servidor\n"
   ]
  },
  {
   "cell_type": "markdown",
   "metadata": {},
   "source": [
    "### Autenticação\n",
    "\n",
    "Principais Tipos de Autenticação\n",
    "\n",
    "- Baerer Token\n"
   ]
  },
  {
   "cell_type": "code",
   "execution_count": null,
   "metadata": {},
   "outputs": [],
   "source": [
    "import requests\n",
    "import json\n",
    "\n",
    "url_base = \"https://dummyjson.com/auth/\"\n",
    "\n",
    "\n",
    "def authenticator(login, senha):\n",
    "    login_response = requests.post(\n",
    "        url=\"https://dummyjson.com/auth/login\",\n",
    "        headers={'Content-Type': 'application/json'},\n",
    "        data=json.dumps({\n",
    "            \"username\": login,\n",
    "            \"password\": senha\n",
    "        })\n",
    "    )\n",
    "    return login_response.json()['token']\n",
    "\n",
    "\n",
    "access_token = authenticator(login=\"kminchelle\", senha=\"0lelplR\")\n",
    "\n",
    "authorization_header = {\n",
    "    \"Authorization\": f\"Bearer {access_token}\",\n",
    "    'Content-Type': 'application/json'\n",
    "}\n",
    "\n",
    "authenticated_products = requests.get(\n",
    "    url=f\"{url_base}/products\",\n",
    "    headers=authorization_header\n",
    ")\n",
    "\n",
    "authenticated_products.status_code"
   ]
  },
  {
   "cell_type": "markdown",
   "metadata": {},
   "source": [
    "# Implementação Re-autenticação\n"
   ]
  },
  {
   "cell_type": "code",
   "execution_count": 7,
   "metadata": {},
   "outputs": [],
   "source": [
    "def created_authentication_headers(url: str):\n",
    "    access_token = authenticator(login=\"kminchelle\", senha=\"0lelplR\")\n",
    "\n",
    "    return {\n",
    "        \"Authorization\": f\"Bearer {access_token}\",\n",
    "        'Content-Type': 'application/json'\n",
    "    }"
   ]
  },
  {
   "cell_type": "code",
   "execution_count": 6,
   "metadata": {},
   "outputs": [],
   "source": [
    "def management_refresh_token(url: str, authorization_header, current_retry: int = 0, max_retries: int = 0):\n",
    "\n",
    "    response = requests.get(\n",
    "        url=url,\n",
    "        headers=authorization_header\n",
    "    )\n",
    "\n",
    "    try:\n",
    "        if response.status_code == 401 and current_retry < max_retries and response.json()['name'] == \"TokenExpiredError\":\n",
    "            return management_refresh_token(\n",
    "                url=url,\n",
    "                authorization_header=created_authentication_headers()\n",
    "            )\n",
    "        else:\n",
    "            print(\n",
    "                f\"Não foi possivel recuperar após o código. Código: {response.status_code}\")\n",
    "\n",
    "    except Exception as ex:\n",
    "        print(f\"Fluxo de exceção. Detalhe: {ex}\")\n",
    "\n",
    "    return"
   ]
  }
 ],
 "metadata": {
  "kernelspec": {
   "display_name": "Python 3 (ipykernel)",
   "language": "python",
   "name": "python3"
  },
  "language_info": {
   "codemirror_mode": {
    "name": "ipython",
    "version": 3
   },
   "file_extension": ".py",
   "mimetype": "text/x-python",
   "name": "python",
   "nbconvert_exporter": "python",
   "pygments_lexer": "ipython3",
   "version": "3.10.13"
  }
 },
 "nbformat": 4,
 "nbformat_minor": 4
}
