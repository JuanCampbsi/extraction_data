{
 "cells": [
  {
   "cell_type": "markdown",
   "id": "13a6d158-b911-482d-9e75-dfebb833f7f4",
   "metadata": {},
   "source": [
    "# Exercício de Integração ETL, ELT, APIs e Arquivos\n"
   ]
  },
  {
   "cell_type": "markdown",
   "id": "20107967-cfe2-4f0a-bf79-71a92bdfb549",
   "metadata": {
    "tags": []
   },
   "source": [
    "## Trabalho em Grupo\n",
    "\n",
    "Você trabalha em um e-commerce de variados produtos, e no último mês os gerentes operacionais da companhia notaram que\n",
    "houve uma variação muito grande em seus estoques por períodos de até 24h, cujos produtos, voltavam ao estoque\n",
    "no dia seguinte o que não caracterizava uma venda concretizada.\n",
    "Sabendo disso um dos diretores sugeriu um estudo sobre os carrinhos em aberto, e qual o perfil dos usuários que deixavam seus carrinhos em aberto, e para isso fora criada uma demanda para seu time.\n",
    "\n",
    "Para resulver esta demanda, você e seu time deverão realizar a ingestão dos dados de:\n",
    "\n",
    "- Usuários\n",
    "- Carrinhos\n",
    "\n",
    "Estes dados poderão ser obtidos através dos seguintes endpoints:\n",
    "\n",
    "- Usuários: https://dummyjson.com/auth/users\n",
    "- Carrinhos: https://dummyjson.com/auth/carts\n",
    "\n",
    "Lembrando que estes são endpoints seguros então você deverá realizar a autenticação através do seguinte endpoint: https://dummyjson.com/auth/login\n",
    "\n",
    "Lembre-se de verificar a documentação para obter mais detalhes do funcionamento dos endpoints https://dummyjson.com/docs/auth\n",
    "\n",
    "Após isso, os passos de tratamento do dado, serão:\n",
    "\n",
    "1. Após consumidos os dados, você deverá persistí-los utilizando a técnica aprendida em aula em uma pastas chamada raw no formato json\n",
    "\n",
    "2. Consumir sua camada raw e criar uma nova entidade que relacione os clientes aos carrihos através do atributo userId do seu carrinho e o atribute id da tabela users, feito isso gravar o resultado dessa agregação em uma pasta chamda kitchen\n",
    "\n",
    "3. Por fim você deverá contemplar se os dados gerados são capazes de responder as seguintes perguntas:\n",
    "\n",
    "   - Qual o estado de residencia possui clientes com mais carrinhos em aberto ?\n",
    "   - Qual a idade dos usuários com mais carrinhos em aberto ?\n",
    "   - Quais os produtos que mais aparecem em carrinhos em aberto ?\n",
    "\n",
    "OBS: **Não se preocupe em fazer uma análise aprofundade, o intuito desta atividade é exercitar a construção de um fluxo de ETL ou ELT utilizando os conceitos aprendidos em sala de aula, então concentrem seus esforços no fluxo de dados**\n"
   ]
  },
  {
   "cell_type": "code",
   "execution_count": null,
   "id": "a8572833",
   "metadata": {},
   "outputs": [],
   "source": [
    "import pandas as pd \n",
    "import requests\n",
    "import json\n",
    "\n",
    "def authenticate(login, senha):\n",
    "    login_response = requests.post(\n",
    "        url=\"https://dummyjson.com/auth/login\",\n",
    "        headers={\"Content-Type\": \"application/json\"},\n",
    "        data=json.dumps({\n",
    "            \"username\": login,\n",
    "            \"password\": senha,\n",
    "            \"expiresInMins\": 1\n",
    "        })\n",
    "    )\n",
    "    \n",
    "    return login_response.json()['token']\n",
    "  \n",
    "\n",
    "def get_authorization_headers():\n",
    "    access_token = authenticate(login=\"kminchelle\", senha=\"0lelplR\")\n",
    "    \n",
    "    authorization_header = {\n",
    "        \"Authorization\": f\"Bearer {access_token}\", \n",
    "        \"Content-Type\": \"application/json\"\n",
    "    }\n",
    "    \n",
    "    return authorization_header\n",
    "  \n",
    "def get_endpoint(url: str):\n",
    "    response = requests.get(\n",
    "        url=url, \n",
    "        headers=get_authorization_headers()\n",
    "    )\n",
    "    \n",
    "    return response.json() \n"
   ]
  },
  {
   "cell_type": "code",
   "execution_count": 29,
   "id": "640c5ccb",
   "metadata": {},
   "outputs": [],
   "source": [
    "users = get_endpoint(\"https://dummyjson.com/auth/users\")\n",
    "carts = get_endpoint(\"https://dummyjson.com/auth/carts\")\n",
    "\n",
    "json_users = json.dumps(users)\n",
    "json_carts = json.dumps(carts)\n",
    "\n",
    "def file_convert_text(type: str, data: str, path: str):\n",
    "  with open(f\"../ex_full_cycle/{path}/{type}.json\", mode=\"w\") as file_to_write:\n",
    "    file_to_write.write(data)  \n",
    "    file_to_write.flush()\n",
    "    file_to_write.close()    \n",
    "    \n",
    "\n",
    "file_convert_text(\"users\", json_users, \"raw_full_cycle\")\n",
    "file_convert_text(\"carts\", json_carts, \"raw_full_cycle\")"
   ]
  },
  {
   "cell_type": "code",
   "execution_count": 32,
   "id": "32e4c1f8",
   "metadata": {},
   "outputs": [
    {
     "data": {
      "text/plain": [
       "'[{\"userId\":1,\"firstName\":\"Terry\",\"lastName\":\"Medhurst\",\"maidenName\":\"Smitham\",\"age\":50,\"gender\":\"male\",\"email\":\"atuny0@sohu.com\",\"phone\":\"+63 791 675 8914\",\"username\":\"atuny0\",\"password\":\"9uQFF1Lh\",\"birthDate\":\"2000-12-25\",\"image\":\"https:\\\\/\\\\/robohash.org\\\\/hicveldicta.png\",\"bloodGroup\":\"A\\\\u2212\",\"height\":189,\"weight\":75.4,\"eyeColor\":\"Green\",\"domain\":\"slashdot.org\",\"ip\":\"117.29.86.254\",\"macAddress\":\"13:69:BA:56:A3:74\",\"university\":\"Capitol University\",\"ein\":\"20-9487066\",\"ssn\":\"661-64-2976\",\"userAgent\":\"Mozilla\\\\/5.0 (Windows NT 6.1) AppleWebKit\\\\/534.24 (KHTML, like Gecko) Chrome\\\\/12.0.702.0 Safari\\\\/534.24\",\"hair.color\":\"Black\",\"hair.type\":\"Strands\",\"address.address\":\"1745 T Street Southeast\",\"address.city\":\"Washington\",\"address.coordinates.lat\":38.867033,\"address.coordinates.lng\":-76.979235,\"address.postalCode\":\"20020\",\"address.state\":\"DC\",\"bank.cardExpire\":\"06\\\\/22\",\"bank.cardNumber\":\"50380955204220685\",\"bank.cardType\":\"maestro\",\"bank.currency\":\"Peso\",\"bank.iban\":\"NO17 0695 2754 967\",\"company.address.address\":\"629 Debbie Drive\",\"company.address.city\":\"Nashville\",\"company.address.coordinates.lat\":36.208114,\"company.address.coordinates.lng\":-86.586212,\"company.address.postalCode\":\"37076\",\"company.address.state\":\"TN\",\"company.department\":\"Marketing\",\"company.name\":\"Blanda-O\\'Keefe\",\"company.title\":\"Help Desk Operator\",\"id\":8,\"products\":[{\"id\":45,\"title\":\"Malai Maxi Dress\",\"price\":50,\"quantity\":1,\"total\":50,\"discountPercentage\":5.07,\"discountedPrice\":47},{\"id\":83,\"title\":\"Wiley X Night Vision Yellow Glasses\",\"price\":30,\"quantity\":3,\"total\":90,\"discountPercentage\":6.33,\"discountedPrice\":84},{\"id\":96,\"title\":\"lighting ceiling kitchen\",\"price\":30,\"quantity\":1,\"total\":30,\"discountPercentage\":14.89,\"discountedPrice\":26},{\"id\":21,\"title\":\"- Daal Masoor 500 grams\",\"price\":20,\"quantity\":3,\"total\":60,\"discountPercentage\":4.81,\"discountedPrice\":57},{\"id\":2,\"title\":\"iphone X\",\"price\":899,\"quantity\":1,\"total\":899,\"discountPercentage\":17.94,\"discountedPrice\":738}],\"total\":1129,\"discountedTotal\":952,\"totalProducts\":5,\"totalQuantity\":9},{\"userId\":5,\"firstName\":\"Mavis\",\"lastName\":\"Schultz\",\"maidenName\":\"Yundt\",\"age\":38,\"gender\":\"male\",\"email\":\"kmeus4@upenn.edu\",\"phone\":\"+372 285 771 1911\",\"username\":\"kmeus4\",\"password\":\"aUTdmmmbH\",\"birthDate\":\"1968-11-03\",\"image\":\"https:\\\\/\\\\/robohash.org\\\\/adverovelit.png\",\"bloodGroup\":\"O+\",\"height\":188,\"weight\":106.3,\"eyeColor\":\"Brown\",\"domain\":\"columbia.edu\",\"ip\":\"103.72.86.183\",\"macAddress\":\"F8:04:9E:ED:C0:68\",\"university\":\"Estonian University of Life Sciences\",\"ein\":\"18-7178563\",\"ssn\":\"667-98-5357\",\"userAgent\":\"Mozilla\\\\/5.0 (Windows NT 6.0) AppleWebKit\\\\/535.1 (KHTML, like Gecko) Chrome\\\\/13.0.782.1 Safari\\\\/535.1\",\"hair.color\":\"Brown\",\"hair.type\":\"Curly\",\"address.address\":\"2721 Lindsay Avenue\",\"address.city\":\"Louisville\",\"address.coordinates.lat\":38.263793,\"address.coordinates.lng\":-85.700243,\"address.postalCode\":\"40206\",\"address.state\":\"KY\",\"bank.cardExpire\":\"01\\\\/24\",\"bank.cardNumber\":\"4917245076693618\",\"bank.cardType\":\"visa-electron\",\"bank.currency\":\"Euro\",\"bank.iban\":\"IT41 T114 5127 716J RGYB ZRUX DSJ\",\"company.address.address\":\"8398 West Denton Lane\",\"company.address.city\":\"Glendale\",\"company.address.coordinates.lat\":33.515353,\"company.address.coordinates.lng\":-112.240812,\"company.address.postalCode\":\"85305\",\"company.address.state\":\"AZ\",\"company.department\":\"Support\",\"company.name\":\"Adams Inc\",\"company.title\":\"Web Developer I\",\"id\":19,\"products\":[{\"id\":43,\"title\":\"frock gold printed\",\"price\":600,\"quantity\":3,\"total\":1800,\"discountPercentage\":15.55,\"discountedPrice\":1520},{\"id\":77,\"title\":\"Rose Ring\",\"price\":100,\"quantity\":3,\"total\":300,\"discountPercentage\":3.22,\"discountedPrice\":290},{\"id\":50,\"title\":\"Women Shoes\",\"price\":36,\"quantity\":3,\"total\":108,\"discountPercentage\":16.87,\"discountedPrice\":90},{\"id\":31,\"title\":\"Mornadi Velvet Bed\",\"price\":40,\"quantity\":2,\"total\":80,\"discountPercentage\":17,\"discountedPrice\":66},{\"id\":75,\"title\":\"Seven Pocket Women Bag\",\"price\":68,\"quantity\":3,\"total\":204,\"discountPercentage\":14.87,\"discountedPrice\":174}],\"total\":2492,\"discountedTotal\":2140,\"totalProducts\":5,\"totalQuantity\":14},{\"userId\":13,\"firstName\":\"Trace\",\"lastName\":\"Douglas\",\"maidenName\":\"Lemke\",\"age\":26,\"gender\":\"male\",\"email\":\"lgribbinc@posterous.com\",\"phone\":\"+1 609 937 3468\",\"username\":\"lgribbinc\",\"password\":\"ftGj8LZTtv9g\",\"birthDate\":\"1967-07-23\",\"image\":\"https:\\\\/\\\\/robohash.org\\\\/voluptatemsintnulla.png\",\"bloodGroup\":\"O+\",\"height\":181,\"weight\":56.5,\"eyeColor\":\"Amber\",\"domain\":\"histats.com\",\"ip\":\"163.245.232.27\",\"macAddress\":\"B9:21:ED:9F:B8:9E\",\"university\":\"Dallas Christian College\",\"ein\":\"94-0648182\",\"ssn\":\"217-05-3082\",\"userAgent\":\"Mozilla\\\\/5.0 (Windows; U; Windows NT 5.1; ru-RU) AppleWebKit\\\\/533.19.4 (KHTML, like Gecko) Version\\\\/5.0.3 Safari\\\\/533.19.4\",\"hair.color\":\"Auburn\",\"hair.type\":\"Straight\",\"address.address\":\"87 Horseshoe Drive\",\"address.city\":\"West Windsor\",\"address.coordinates.lat\":43.4731793,\"address.coordinates.lng\":-72.4967532,\"address.postalCode\":\"05037\",\"address.state\":\"VT\",\"bank.cardExpire\":\"01\\\\/23\",\"bank.cardNumber\":\"3556299106119514\",\"bank.cardType\":\"jcb\",\"bank.currency\":\"Dollar\",\"bank.iban\":\"AE47 4194 4544 3401 3419 286\",\"company.address.address\":\"310 Timrod Road\",\"company.address.city\":\"Manchester\",\"company.address.coordinates.lat\":41.756758,\"company.address.coordinates.lng\":-72.493501,\"company.address.postalCode\":\"06040\",\"company.address.state\":\"CT\",\"company.department\":\"Research and Development\",\"company.name\":\"Casper Inc\",\"company.title\":\"Sales Associate\",\"id\":10,\"products\":[{\"id\":75,\"title\":\"Seven Pocket Women Bag\",\"price\":68,\"quantity\":1,\"total\":68,\"discountPercentage\":14.87,\"discountedPrice\":58},{\"id\":39,\"title\":\"Women Sweaters Wool\",\"price\":600,\"quantity\":1,\"total\":600,\"discountPercentage\":17.2,\"discountedPrice\":497},{\"id\":3,\"title\":\"Samsung Universe 9\",\"price\":1249,\"quantity\":3,\"total\":3747,\"discountPercentage\":15.46,\"discountedPrice\":3168},{\"id\":7,\"title\":\"Samsung Galaxy Book\",\"price\":1499,\"quantity\":1,\"total\":1499,\"discountPercentage\":4.15,\"discountedPrice\":1437},{\"id\":93,\"title\":\"Automatic Motor Gas Motorcycles\",\"price\":1050,\"quantity\":3,\"total\":3150,\"discountPercentage\":3.34,\"discountedPrice\":3045}],\"total\":9064,\"discountedTotal\":8205,\"totalProducts\":5,\"totalQuantity\":9},{\"userId\":15,\"firstName\":\"Jeanne\",\"lastName\":\"Halvorson\",\"maidenName\":\"Cummerata\",\"age\":26,\"gender\":\"female\",\"email\":\"kminchelle@qq.com\",\"phone\":\"+86 581 108 7855\",\"username\":\"kminchelle\",\"password\":\"0lelplR\",\"birthDate\":\"1996-02-02\",\"image\":\"https:\\\\/\\\\/robohash.org\\\\/autquiaut.png\",\"bloodGroup\":\"A+\",\"height\":176,\"weight\":45.7,\"eyeColor\":\"Amber\",\"domain\":\"google.co.uk\",\"ip\":\"78.43.74.226\",\"macAddress\":\"D9:DB:D9:5A:01:09\",\"university\":\"Donghua University, Shanghai\",\"ein\":\"62-0561095\",\"ssn\":\"855-43-8639\",\"userAgent\":\"Mozilla\\\\/5.0 (X11; Linux i686) AppleWebKit\\\\/534.24 (KHTML, like Gecko) Chrome\\\\/11.0.696.14 Safari\\\\/534.24\",\"hair.color\":\"Blond\",\"hair.type\":\"Straight\",\"address.address\":\"4 Old Colony Way\",\"address.city\":\"Yarmouth\",\"address.coordinates.lat\":41.697168,\"address.coordinates.lng\":-70.189992,\"address.postalCode\":\"02664\",\"address.state\":\"MA\",\"bank.cardExpire\":\"10\\\\/23\",\"bank.cardNumber\":\"3588859507772914\",\"bank.cardType\":\"jcb\",\"bank.currency\":\"Yuan Renminbi\",\"bank.iban\":\"FO12 1440 0396 8902 56\",\"company.address.address\":\"22572 Toreador Drive\",\"company.address.city\":\"Salinas\",\"company.address.coordinates.lat\":36.602449,\"company.address.coordinates.lng\":-121.699071,\"company.address.postalCode\":\"93908\",\"company.address.state\":\"CA\",\"company.department\":\"Marketing\",\"company.name\":\"Hahn-MacGyver\",\"company.title\":\"Software Test Engineer IV\",\"id\":16,\"products\":[{\"id\":3,\"title\":\"Samsung Universe 9\",\"price\":1249,\"quantity\":3,\"total\":3747,\"discountPercentage\":15.46,\"discountedPrice\":3168},{\"id\":50,\"title\":\"Women Shoes\",\"price\":36,\"quantity\":3,\"total\":108,\"discountPercentage\":16.87,\"discountedPrice\":90},{\"id\":67,\"title\":\"Fashion Magnetic Wrist Watch\",\"price\":60,\"quantity\":2,\"total\":120,\"discountPercentage\":16.69,\"discountedPrice\":100},{\"id\":86,\"title\":\"Bluetooth Aux\",\"price\":25,\"quantity\":1,\"total\":25,\"discountPercentage\":10.56,\"discountedPrice\":22},{\"id\":12,\"title\":\"Brown Perfume\",\"price\":40,\"quantity\":1,\"total\":40,\"discountPercentage\":15.66,\"discountedPrice\":34}],\"total\":4040,\"discountedTotal\":3414,\"totalProducts\":5,\"totalQuantity\":10},{\"userId\":26,\"firstName\":\"Griffin\",\"lastName\":\"Braun\",\"maidenName\":\"Deckow\",\"age\":35,\"gender\":\"male\",\"email\":\"lgronaverp@cornell.edu\",\"phone\":\"+62 511 790 0161\",\"username\":\"lgronaverp\",\"password\":\"4a1dAKDv9KB9\",\"birthDate\":\"1965-09-06\",\"image\":\"https:\\\\/\\\\/robohash.org\\\\/laboriosammollitiaut.png\",\"bloodGroup\":\"O\\\\u2212\",\"height\":146,\"weight\":65.5,\"eyeColor\":\"Blue\",\"domain\":\"foxnews.com\",\"ip\":\"93.246.47.59\",\"macAddress\":\"34:06:26:95:37:D6\",\"university\":\"Universitas Bojonegoro\",\"ein\":\"38-0997138\",\"ssn\":\"407-02-8915\",\"userAgent\":\"Mozilla\\\\/5.0 (iPad; CPU OS 6_0 like Mac OS X) AppleWebKit\\\\/536.26 (KHTML, like Gecko) Version\\\\/6.0 Mobile\\\\/10A5355d Safari\\\\/8536.25\",\"hair.color\":\"Blond\",\"hair.type\":\"Wavy\",\"address.address\":\"600 West 19th Avenue\",\"address.city\":\"Anchorage\",\"address.coordinates.lat\":61.203115,\"address.coordinates.lng\":-149.894107,\"address.postalCode\":\"99503\",\"address.state\":\"AK\",\"bank.cardExpire\":\"07\\\\/24\",\"bank.cardNumber\":\"3587188969123346\",\"bank.cardType\":\"jcb\",\"bank.currency\":\"Rupiah\",\"bank.iban\":\"AD24 9240 6903 OD2X OW1Y WD1K\",\"company.address.address\":\"1508 Massachusetts Avenue Southeast\",\"company.address.city\":\"Washington\",\"company.address.coordinates.lat\":38.887255,\"company.address.coordinates.lng\":-76.983185,\"company.address.postalCode\":\"20003\",\"company.address.state\":\"DC\",\"company.department\":\"Engineering\",\"company.name\":\"Boyle, Boyer and Lang\",\"company.title\":\"Senior Cost Accountant\",\"id\":6,\"products\":[{\"id\":53,\"title\":\"printed high quality T shirts\",\"price\":35,\"quantity\":3,\"total\":105,\"discountPercentage\":7.54,\"discountedPrice\":97},{\"id\":61,\"title\":\"Leather Straps Wristwatch\",\"price\":120,\"quantity\":2,\"total\":240,\"discountPercentage\":7.14,\"discountedPrice\":223},{\"id\":92,\"title\":\"HOT SALE IN EUROPE electric racing motorcycle\",\"price\":920,\"quantity\":1,\"total\":920,\"discountPercentage\":14.4,\"discountedPrice\":788},{\"id\":11,\"title\":\"perfume Oil\",\"price\":13,\"quantity\":3,\"total\":39,\"discountPercentage\":8.4,\"discountedPrice\":36},{\"id\":37,\"title\":\"ank Tops for Womens\\\\/Girls\",\"price\":50,\"quantity\":3,\"total\":150,\"discountPercentage\":12.05,\"discountedPrice\":132}],\"total\":1454,\"discountedTotal\":1276,\"totalProducts\":5,\"totalQuantity\":12},{\"userId\":30,\"firstName\":\"Maurine\",\"lastName\":\"Stracke\",\"maidenName\":\"Abshire\",\"age\":31,\"gender\":\"female\",\"email\":\"kdulyt@umich.edu\",\"phone\":\"+48 143 590 6847\",\"username\":\"kdulyt\",\"password\":\"5t6q4KC7O\",\"birthDate\":\"1964-12-18\",\"image\":\"https:\\\\/\\\\/robohash.org\\\\/perferendisideveniet.png\",\"bloodGroup\":\"O\\\\u2212\",\"height\":170,\"weight\":107.2,\"eyeColor\":\"Blue\",\"domain\":\"ow.ly\",\"ip\":\"97.11.116.84\",\"macAddress\":\"42:87:72:A1:4D:9A\",\"university\":\"Poznan School of Banking\",\"ein\":\"51-7727524\",\"ssn\":\"534-76-0952\",\"userAgent\":\"Mozilla\\\\/5.0 (X11; Linux i686) AppleWebKit\\\\/535.11 (KHTML, like Gecko) Chrome\\\\/17.0.963.66 Safari\\\\/535.11\",\"hair.color\":\"Blond\",\"hair.type\":\"Wavy\",\"address.address\":\"81 Seaton Place Northwest\",\"address.city\":\"Washington\",\"address.coordinates.lat\":38.9149499,\"address.coordinates.lng\":-77.0117026,\"address.postalCode\":\"20001\",\"address.state\":\"DC\",\"bank.cardExpire\":\"02\\\\/24\",\"bank.cardNumber\":\"6331108070510590026\",\"bank.cardType\":\"switch\",\"bank.currency\":\"Zloty\",\"bank.iban\":\"MT70 MKRC 8244 59Z4 9UG1 1HY7 TKM6 1YX\",\"company.address.address\":\"816 West 19th Avenue\",\"company.address.city\":\"Anchorage\",\"company.address.coordinates.lat\":61.203221,\"company.address.coordinates.lng\":-149.898655,\"company.address.postalCode\":\"99503\",\"company.address.state\":\"AK\",\"company.department\":\"Support\",\"company.name\":\"Balistreri-Kshlerin\",\"company.title\":\"Quality Engineer\",\"id\":2,\"products\":[{\"id\":96,\"title\":\"lighting ceiling kitchen\",\"price\":30,\"quantity\":2,\"total\":60,\"discountPercentage\":14.89,\"discountedPrice\":51},{\"id\":91,\"title\":\"Black Motorbike\",\"price\":569,\"quantity\":3,\"total\":1707,\"discountPercentage\":13.63,\"discountedPrice\":1474},{\"id\":9,\"title\":\"Infinix INBOOK\",\"price\":1099,\"quantity\":1,\"total\":1099,\"discountPercentage\":11.83,\"discountedPrice\":969},{\"id\":16,\"title\":\"Hyaluronic Acid Serum\",\"price\":19,\"quantity\":1,\"total\":19,\"discountPercentage\":13.31,\"discountedPrice\":16},{\"id\":54,\"title\":\"Pubg Printed Graphic T-Shirt\",\"price\":46,\"quantity\":3,\"total\":138,\"discountPercentage\":16.44,\"discountedPrice\":115}],\"total\":3023,\"discountedTotal\":2625,\"totalProducts\":5,\"totalQuantity\":10}]'"
      ]
     },
     "metadata": {},
     "output_type": "display_data"
    }
   ],
   "source": [
    "def file_open(type: str):\n",
    "  users_created = pd.read_json(f\"../ex_full_cycle/raw_full_cycle/{type}.json\", encoding=\"utf-8\")\n",
    "  return users_created\n",
    " \n",
    "\n",
    "get_users = file_open(\"users\")\n",
    "get_carts = file_open(\"carts\")\n",
    "\n",
    "expanded_users = pd.DataFrame(pd.json_normalize(get_users['users']))\n",
    "expanded_carts = pd.DataFrame(pd.json_normalize(get_carts['carts']))\n",
    "\n",
    "expanded_users.rename(columns={\"id\": \"userId\"}, inplace=True)\n",
    "\n",
    "join_merged = pd.merge(expanded_users, expanded_carts, on=\"userId\", how=\"inner\")\n",
    "json_string = join_merged.to_json(orient='records')\n",
    "\n",
    "file_convert_text(\"join_merged\", json_string, \"kitchen\")    "
   ]
  }
 ],
 "metadata": {
  "kernelspec": {
   "display_name": "Python 3 (ipykernel)",
   "language": "python",
   "name": "python3"
  },
  "language_info": {
   "codemirror_mode": {
    "name": "ipython",
    "version": 3
   },
   "file_extension": ".py",
   "mimetype": "text/x-python",
   "name": "python",
   "nbconvert_exporter": "python",
   "pygments_lexer": "ipython3",
   "version": "3.10.13"
  }
 },
 "nbformat": 4,
 "nbformat_minor": 5
}
