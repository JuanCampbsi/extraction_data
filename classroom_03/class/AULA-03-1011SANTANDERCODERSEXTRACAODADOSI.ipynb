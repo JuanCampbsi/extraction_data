{
  "cells": [
    {
      "cell_type": "markdown",
      "id": "fdc19022-3601-4c06-a580-efaf92c43e71",
      "metadata": {
        "tags": []
      },
      "source": [
        "## AULA 03 - EXTRAÇÃO DE DADOS I - Manipulando Arquivos\n"
      ]
    },
    {
      "cell_type": "markdown",
      "id": "0e63f99c-7a9d-447a-be82-69f1faa43b34",
      "metadata": {},
      "source": [
        "## Base de Dados para Nossa AULA\n",
        "\n",
        "- **API Utilizada:** DummyJson API\n",
        "- **URL Base**: https://dummyjson.com/auth/\n",
        "- **Modo de Acesso:** Autenticado\n"
      ]
    },
    {
      "cell_type": "code",
      "execution_count": null,
      "id": "801e92a3-1438-4685-8b1b-78c247470686",
      "metadata": {
        "tags": []
      },
      "outputs": [],
      "source": [
        "%pip install requests"
      ]
    },
    {
      "cell_type": "code",
      "execution_count": null,
      "id": "b20a0906-f579-4903-9065-8d78809f4976",
      "metadata": {
        "tags": []
      },
      "outputs": [],
      "source": [
        "import requests\n",
        "import json\n",
        "\n",
        "def authenticate(login, senha):\n",
        "    login_response = requests.post(\n",
        "        url=\"https://dummyjson.com/auth/login\",\n",
        "        headers={\"Content-Type\": \"application/json\"},\n",
        "        data=json.dumps({\n",
        "            \"username\": login,\n",
        "            \"password\": senha,\n",
        "            \"expiresInMins\": 1\n",
        "        })\n",
        "    )\n",
        "    \n",
        "    return login_response.json()['token']\n",
        "\n",
        "def get_authorization_headers():\n",
        "    access_token = authenticate(login=\"kminchelle\", senha=\"0lelplR\")\n",
        "    \n",
        "    authorization_header = {\n",
        "        \"Authorization\": f\"Bearer {access_token}\", \n",
        "        \"Content-Type\": \"application/json\"\n",
        "    }\n",
        "    \n",
        "    return authorization_header\n",
        "\n",
        "def get_products():\n",
        "    response = requests.get(\n",
        "        url=\"https://dummyjson.com/auth/products\", \n",
        "        headers=get_authorization_headers()\n",
        "    )\n",
        "    \n",
        "    return response.json()"
      ]
    },
    {
      "cell_type": "markdown",
      "id": "25166fb8-ca3b-4c36-8e9e-7b5dbcf16ec3",
      "metadata": {},
      "source": [
        "## Principais Tipos de Arquivos Utilizados em Ambientes de Dados\n"
      ]
    },
    {
      "cell_type": "markdown",
      "id": "c0a0c616-1e6a-46f8-96c6-e28a15f38e2a",
      "metadata": {},
      "source": [
        "**CSV** - Comma Separated Values ou Valores Separados por Vírgula\n",
        "\n",
        "- Arquivos delimitados por um separador, sendo os mais comuns:\n",
        "  - `,` - Vírgula\n",
        "  - `;` - Ponto e Vírgula\n",
        "  - `|` - Pipe\n",
        "  - `\\t` - Tabulação\n",
        "\n",
        "Os aquivos CSVs possuem básicamente um cabeçalho e seus valores, sendo o cabeçalho delimitado pela primeira linha do arquivo\n",
        "\n",
        "Suas quebras de linha são definidas por:\n",
        "\n",
        "- `\\n` - Em sistemas Linux/Unix\n",
        "- `\\r\\n` - Em sistemas Windows\n",
        "\n",
        "Algumas Aplicações\n",
        "\n",
        "- Planilhas Operacioais\n",
        "- Análise de Dados\n",
        "- Armazenamento de Dados tabulados de baixa complexidade\n"
      ]
    },
    {
      "cell_type": "markdown",
      "id": "640c3043-6f87-42b9-a449-9310e6327ca1",
      "metadata": {},
      "source": [
        "## Gravando dados do Tipo CSV com Python e Pandas\n"
      ]
    },
    {
      "cell_type": "markdown",
      "id": "405ca63b-ad14-4fa5-acc0-847de94cf0da",
      "metadata": {},
      "source": [
        "## Abordagem Pandas CSV\n"
      ]
    },
    {
      "cell_type": "code",
      "execution_count": null,
      "id": "8d55f08b-f2db-441b-849b-590c8698b269",
      "metadata": {
        "tags": []
      },
      "outputs": [],
      "source": [
        "%pip install pandas"
      ]
    },
    {
      "cell_type": "code",
      "execution_count": null,
      "id": "a41bb397-e6b0-4362-a7f0-57d6ecb3fcbc",
      "metadata": {
        "tags": []
      },
      "outputs": [],
      "source": [
        "### LIVE CODING HERE\n",
        "import pandas as pd\n",
        "from io import StringIO\n",
        "\n",
        "products_response = get_products()[\"products\"]\n",
        "products_response_json_string = json.dumps(products_response)\n",
        "\n",
        "df_products = pd.read_json(StringIO(products_response_json_string))\n",
        "df_products_final = df_products[[\"id\", \"title\", \"description\", \"price\", \"stock\"]]\n",
        "\n",
        "df_products_final.to_csv(\"../clasrroom_03/raw/products_pandas.csv\", sep=\"|\", encoding=\"utf-8\", mode=\"w\", index=False)\n",
        "display(df_products_final)\n",
        "\n"
      ]
    },
    {
      "cell_type": "markdown",
      "id": "16d43c4c-96af-4dd4-a904-1c7946670da1",
      "metadata": {},
      "source": [
        "## Abordagem Python biblioteca CSV\n"
      ]
    },
    {
      "cell_type": "code",
      "execution_count": null,
      "id": "80d7ed74-25aa-4f45-a5cf-886bf6f5202c",
      "metadata": {
        "tags": []
      },
      "outputs": [],
      "source": [
        "### LIVE CODING HERE\n",
        "import csv\n",
        "\n",
        "products_response = get_products()[\"products\"]\n",
        "\n",
        "with open(\"../clasrroom_03/raw/products_pandas_native.csv\", mode=\"w\", newline=\"\") as file_to_write:\n",
        "  fill_names = products_response[0].keys()\n",
        "  file_write = csv.DictWriter(file_to_write, delimiter=\";\", quotechar=\"|\", quoting=csv.QUOTE_MINIMAL, fieldnames=fill_names)\n",
        "  \n",
        "  file_write.writeheader()\n",
        "  \n",
        "  for product in products_response:\n",
        "    file_write.writerow(product)\n",
        "    \n",
        "  file_to_write.flush()\n",
        "  file_to_write.close()"
      ]
    },
    {
      "cell_type": "markdown",
      "id": "aa266cd0-b04f-41d2-9a1b-f13da4aafaa7",
      "metadata": {},
      "source": [
        "**JSON** - JavaScript Object Notation\n",
        "\n",
        "- Arquivos que possuem uma estrutura de Chave valor, podendo estes valores serem:\n",
        "  - Numeros\n",
        "  - Texto\n",
        "  - Booleanos\n",
        "  - Datas (Representadas como Texto)\n",
        "  - Objetos\n",
        "  - Listas\n",
        "\n",
        "Seus membros são separados por `,` (Vírgula)\n",
        "\n",
        "Algumas Aplicações\n",
        "\n",
        "- Trafego de Dados entre Sistemas via API\n",
        "- Sistemas de Mensageria (KAFKA, Managed Queues, ETC)\n"
      ]
    },
    {
      "cell_type": "markdown",
      "id": "89f0b21e-0b51-4b7a-b975-723b5a0efee0",
      "metadata": {},
      "source": [
        "## Gravando dados do Tipo JSON com Python e Pandas\n"
      ]
    },
    {
      "cell_type": "markdown",
      "id": "c9505c37-e973-4efb-bbf4-9918fc1ef42d",
      "metadata": {},
      "source": [
        "## Abordagem Pandas JSON\n"
      ]
    },
    {
      "cell_type": "code",
      "execution_count": null,
      "id": "18ad1ff7-a94d-494a-b5ce-30c590c2cfb2",
      "metadata": {
        "tags": []
      },
      "outputs": [],
      "source": [
        "### LIVE CODING HERE\n",
        "import pandas as pd\n",
        "\n",
        "from io import StringIO\n",
        "\n",
        "products_response = get_products()[\"products\"]\n",
        "products_response_json_string = json.dumps(products_response)\n",
        "\n",
        "df_products = pd.read_json(StringIO(products_response_json_string))\n",
        "df_products_final = df_products[[\"id\", \"title\", \"description\", \"price\", \"stock\"]]\n",
        "\n",
        "df_products_final.to_json(\"../clasrroom_03/raw/products_pandas.json\", orient=\"records\")"
      ]
    },
    {
      "cell_type": "markdown",
      "id": "5fac56bf-fe75-4a2e-90ff-c0f55c1128cd",
      "metadata": {
        "tags": []
      },
      "source": [
        "## Abordagem Python JSON\n"
      ]
    },
    {
      "cell_type": "code",
      "execution_count": null,
      "id": "4d52c466-7a31-40ec-b8f0-7cd74d705b7e",
      "metadata": {
        "tags": []
      },
      "outputs": [],
      "source": [
        "### LIVE CODING HERE\n",
        "products_response = get_products()[\"products\"]\n",
        "products_response_filtred = list(map(lambda product: {\"id\": product[\"id\"], \"title\": product[\"title\"]}, products_response))\n",
        "\n",
        "products_response_json_string = json.dumps(products_response_filtred)\n",
        "\n",
        "with open(\"../clasrroom_03/raw/products_pandas_native_python.json\", mode=\"w\") as file_to_write:\n",
        "  file_to_write.write(products_response_json_string)  \n",
        "  file_to_write.flush()\n",
        "  file_to_write.close()\n"
      ]
    },
    {
      "cell_type": "markdown",
      "id": "881fb622-6feb-431a-96c1-0b8b012d145e",
      "metadata": {},
      "source": [
        "**PARQUET** - Apache Parquet\n",
        "\n",
        "- Formato de Arquivo de Código aberto mantido pela Apache\n",
        "\n",
        "A organização de um arquivo parquet é muito semelhante a organização de uma tabela de um SGBD (MySQL, Oracle, SQL Server, etc) com Linhas e Colunas\n",
        "\n",
        "- É um formato de Arquivo Colunar\n",
        "- Possui ótima taxa de compactação\n",
        "\n",
        "Permite o Armazenamento de Dados Estruturados e Não Estruturados\n",
        "\n",
        "- ARRAYS\n",
        "- Estruturas Complexas\n",
        "\n",
        "Metadados\n",
        "\n",
        "- Cadas Arquivo Parquet Possui seu Próprio Schema Descrito, sendo um formato de Arquivo Auto-descritivo\n",
        "- Os metadados do arquivo encontram-se no rodapé do arquivo, segundo a documentação oficial no seguinte formato:\n",
        "\n",
        "```\n",
        "    4-byte magic number \"PAR1\"\n",
        "    <Column 1 Chunk 1 + Column Metadata>\n",
        "    <Column 2 Chunk 1 + Column Metadata>\n",
        "    ...\n",
        "    <Column N Chunk 1 + Column Metadata>\n",
        "    <Column 1 Chunk 2 + Column Metadata>\n",
        "    <Column 2 Chunk 2 + Column Metadata>\n",
        "    ...\n",
        "    <Column N Chunk 2 + Column Metadata>\n",
        "    ...\n",
        "    <Column 1 Chunk M + Column Metadata>\n",
        "    <Column 2 Chunk M + Column Metadata>\n",
        "    ...\n",
        "    <Column N Chunk M + Column Metadata>\n",
        "    File Metadata\n",
        "    4-byte length in bytes of file metadata\n",
        "    4-byte magic number \"PAR1\"\n",
        "```\n",
        "\n",
        "Utilização\n",
        "\n",
        "- Sistemas de Armazenamento com Grande Volume de Dados\n",
        "- Ecossistema BigData\n",
        "\n",
        "Algumas Vantagens\n",
        "\n",
        "- Leituras Objetivas e Otimizadas\n",
        "- Leia apenas o necessário\n",
        "- Informação sobre os tipos de dados com os quais estamos trabalhando\n"
      ]
    },
    {
      "cell_type": "markdown",
      "id": "f3d53850-5989-4e24-b794-9884cf2c9407",
      "metadata": {},
      "source": [
        "## Gravando dados do Tipo PARQUET com Pandas\n"
      ]
    },
    {
      "cell_type": "code",
      "execution_count": null,
      "id": "c3642732-faaf-48de-84db-6e189b241d82",
      "metadata": {
        "tags": []
      },
      "outputs": [],
      "source": [
        "### LIVE CODING HERE\n",
        "import pandas as pd\n",
        "\n",
        "from io import StringIO\n",
        "\n",
        "products_response = get_products()[\"products\"]\n",
        "products_response_json_string = json.dumps(products_response)\n",
        "\n",
        "df_products = pd.read_json(StringIO(products_response_json_string))\n",
        "df_products_final = df_products[[\"id\", \"title\", \"description\", \"price\", \"stock\"]]\n",
        "\n",
        "df_products_final.to_parquet(\"../clasrroom_03/raw/products_pandas.parquet.gz\", compression=\"gzip\", index=False)\n",
        "\n",
        "# display(pd.read_parquet(\"../clasrroom_03/raw/products_pandas.parquet.gz\"))"
      ]
    },
    {
      "cell_type": "markdown",
      "id": "2dc26902-1581-481c-a518-cab7d6156576",
      "metadata": {},
      "source": [
        "### Alguns outros Formatos\n",
        "\n",
        "- ORC\n",
        "- AVRO\n"
      ]
    }
  ],
  "metadata": {
    "kernelspec": {
      "display_name": "Python 3 (ipykernel)",
      "language": "python",
      "name": "python3"
    },
    "language_info": {
      "codemirror_mode": {
        "name": "ipython",
        "version": 3
      },
      "file_extension": ".py",
      "mimetype": "text/x-python",
      "name": "python",
      "nbconvert_exporter": "python",
      "pygments_lexer": "ipython3",
      "version": "3.10.13"
    }
  },
  "nbformat": 4,
  "nbformat_minor": 5
}
