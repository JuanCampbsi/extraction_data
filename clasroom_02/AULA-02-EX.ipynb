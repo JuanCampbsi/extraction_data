{
 "cells": [
  {
   "cell_type": "markdown",
   "id": "47cf0bb4-2505-4c81-ab94-fa3f2fface20",
   "metadata": {},
   "source": [
    "## Exercício Aula 2 - PARTE 1\n"
   ]
  },
  {
   "cell_type": "markdown",
   "id": "a22d0165-f8cb-4097-b619-5708718e5fd7",
   "metadata": {},
   "source": [
    "1 - Crie um código Python para consultar os seguintes endpoints da API fakestore:\n",
    "\n",
    "- GET /products\n",
    "- GET /products/categories\n",
    "\n",
    "Formate os resultados em JSON e exiba-os utilizando um comando PRINT Simples\n"
   ]
  },
  {
   "cell_type": "code",
   "execution_count": null,
   "id": "78f1d323-fd82-40b1-ba6a-97c22cd375fd",
   "metadata": {},
   "outputs": [],
   "source": [
    "import requests\n",
    "import json\n",
    "\n",
    "response_products, response_categories = requests.get(\n",
    "    url=\"https://fakestoreapi.com/products\"), requests.get(url=\"https://fakestoreapi.com/products/categories\")\n",
    "\n",
    "text_content_products, text_content_categories = response_products.text, response_categories.text\n",
    "\n",
    "json_parsed_products, json_parsed_categories = json.loads(\n",
    "    text_content_products), json.loads(text_content_categories)\n",
    "\n",
    "print(f\"Endpoint products é {json_parsed_products}\")\n",
    "print(f\"Endpoint categories é {json_parsed_categories}\")\n",
    "\n",
    "\n",
    "# json_content_products, json_content_categories = response_products.json(\n",
    "# ), response_categories.json()\n",
    "\n",
    "\n",
    "# print(f\"Endpoint products é {json_content_products}\\n\\n\")\n",
    "# print(f\"Endpoint categories é {json_content_categories}\")"
   ]
  },
  {
   "cell_type": "markdown",
   "id": "16d2e55a-db21-4103-a4fa-5a872c727a7b",
   "metadata": {},
   "source": [
    "2 - Implemente o código anterior utilizando a estratégia de retries vista em sala de aula\n"
   ]
  },
  {
   "cell_type": "code",
   "execution_count": null,
   "id": "9460f0b7",
   "metadata": {},
   "outputs": [],
   "source": [
    "def management_request(url: str, endpoint: str, current_retry: int = 0, max_retries: int = 0):\n",
    "\n",
    "    response = requests.get(url=f\"{url}/{endpoint}\")\n",
    "\n",
    "    if ((response.status_code >= 400 and response.status_code <= 499) or (response.status_code >= 500 and response.status_code <= 599)):\n",
    "        if current_retry < max_retries:\n",
    "            return management_request(\n",
    "                url=url,\n",
    "                endpoint=endpoint,\n",
    "                current_retry=current_retry+1,\n",
    "                max_retries=max_retries\n",
    "            )\n",
    "        else:\n",
    "            return \"error\", {\n",
    "                \"code\": response.status_code,\n",
    "                \"message\": response.text\n",
    "            }\n",
    "\n",
    "    return \"sucess\", response.json()"
   ]
  },
  {
   "cell_type": "code",
   "execution_count": null,
   "id": "eae5f492",
   "metadata": {},
   "outputs": [],
   "source": [
    "response_products = management_request(\n",
    "    url=\"https://fakestoreapi.com\",\n",
    "    endpoint=\"products\",\n",
    "    max_retries=3\n",
    ")\n",
    "\n",
    "response_categories = management_request(\n",
    "    url=\"https://fakestoreapi.com\",\n",
    "    endpoint=\"products/categories\",\n",
    "    max_retries=3\n",
    ")\n",
    "\n",
    "print(f\"Endpoint products é {response_products}\")\n",
    "print(f\"Endpoint categories é {response_categories}\")"
   ]
  }
 ],
 "metadata": {
  "kernelspec": {
   "display_name": "Python 3 (ipykernel)",
   "language": "python",
   "name": "python3"
  },
  "language_info": {
   "codemirror_mode": {
    "name": "ipython",
    "version": 3
   },
   "file_extension": ".py",
   "mimetype": "text/x-python",
   "name": "python",
   "nbconvert_exporter": "python",
   "pygments_lexer": "ipython3",
   "version": "3.10.13"
  }
 },
 "nbformat": 4,
 "nbformat_minor": 5
}
