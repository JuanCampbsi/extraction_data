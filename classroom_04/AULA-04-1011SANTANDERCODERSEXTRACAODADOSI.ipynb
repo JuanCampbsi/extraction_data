{
 "cells": [
  {
   "cell_type": "markdown",
   "id": "f38de6f8-e5eb-465f-b568-b53e8e809503",
   "metadata": {},
   "source": [
    "# Aula 4 - Extração dado I"
   ]
  },
  {
   "cell_type": "markdown",
   "id": "1a0780c5-53e2-41f5-84ba-458e1916aaba",
   "metadata": {},
   "source": [
    "## Tornando os Dados um Artefato Valioso"
   ]
  },
  {
   "cell_type": "markdown",
   "id": "9971bf68-a8be-4a59-8a09-c973c8868b74",
   "metadata": {},
   "source": [
    "### Principais Desafios\n",
    "\n",
    "- Formatação de Datas\n",
    "- Normalização de Tipos\n",
    "- Normalização de Texto\n",
    "- Organização do Estrutura do Dado"
   ]
  },
  {
   "cell_type": "markdown",
   "id": "bcb4f56d-83e3-4b3b-b1ab-b90e8edd3f26",
   "metadata": {},
   "source": [
    "# Base do Exemplo do Dia"
   ]
  },
  {
   "cell_type": "markdown",
   "id": "4567fbb5-e42c-4dd3-9335-b53d63b496cd",
   "metadata": {
    "tags": []
   },
   "source": [
    "**API Climatempo**: https://advisor.climatempo.com.br/\n",
    "\n",
    "- PUT -> http://apiadvisor.climatempo.com.br/api-manager/user-token/:your-app-token/locales - Registrar Cidade\n",
    "\n",
    "- GET -> http://apiadvisor.climatempo.com.br/api/v1/locale/city?name=São Paulo&state=SP&token=your-app-token - Procurar ID da Cidade\n",
    "\n",
    "- GET -> http://apiadvisor.climatempo.com.br/api/v1/forecast/locale/3477/days/15?token=your-app-token - Previsão dos Próximos 15 dias\n",
    "\n",
    "- GET ->  http://apiadvisor.climatempo.com.br/api/v1/weather/locale/3477/current?token=your-app-token - Tempo Atual"
   ]
  },
  {
   "cell_type": "code",
   "execution_count": null,
   "id": "9542209c-5f99-43fb-aad4-c4b47deb7218",
   "metadata": {},
   "outputs": [],
   "source": []
  }
 ],
 "metadata": {
  "kernelspec": {
   "display_name": "Python 3 (ipykernel)",
   "language": "python",
   "name": "python3"
  },
  "language_info": {
   "codemirror_mode": {
    "name": "ipython",
    "version": 3
   },
   "file_extension": ".py",
   "mimetype": "text/x-python",
   "name": "python",
   "nbconvert_exporter": "python",
   "pygments_lexer": "ipython3",
   "version": "3.10.10"
  }
 },
 "nbformat": 4,
 "nbformat_minor": 5
}
