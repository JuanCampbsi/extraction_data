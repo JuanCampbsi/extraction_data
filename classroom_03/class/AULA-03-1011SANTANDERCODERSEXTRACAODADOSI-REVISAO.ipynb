{
 "cells": [
  {
   "cell_type": "markdown",
   "id": "d04d01e2-536d-45b8-9d00-876aed952d90",
   "metadata": {},
   "source": [
    "## APIs\n",
    "\n",
    "- Biblioteca Python Requests\n",
    "\n",
    "    - > %pip install requests\n",
    "    - > import requests\n",
    "    \n",
    "- APIs são interfaces que nos permitem conversar com outros sistemas e contextos\n",
    "\n",
    "- Principais verbos HTTP\n",
    "    - GET\n",
    "    - POST\n",
    "    - PUT\n",
    "    - PATCH\n",
    "    - DELETE\n",
    "\n",
    "- Introdução aos Códigos de Resposta HTTP\n",
    "    - 200 - 299 - OK\n",
    "    - 400 - 499 - Erro por parte do Cliente\n",
    "    - 500 - 599 - Erro por parte do Servidor"
   ]
  },
  {
   "cell_type": "markdown",
   "id": "2c6314fd-4afa-47ab-a9f8-2a6658853894",
   "metadata": {},
   "source": [
    "### Autenticação\n",
    "\n",
    "Por que uma API utiliza autenticação ?\n",
    "\n",
    "- Garantir que o usuário só acesse seus próprios dados\n",
    "- Garantir que o usuário só acesses recursos específicos\n",
    "- Auditoria de acesso\n",
    "\n",
    "\n",
    "Principais Tipos de Autenticação\n",
    "\n",
    "- Baerer Token\n",
    "- OAuth\n",
    "- API Key\n",
    "\n",
    "- Baerer Token\n",
    "- API Key\n",
    "\n",
    "\n",
    "Passados no header da requisição"
   ]
  },
  {
   "cell_type": "markdown",
   "id": "539eecdb-9d95-4922-82eb-4c060d40f354",
   "metadata": {},
   "source": [
    "## Trabalhando Retornos da API\n",
    "\n",
    "### Query Params\n",
    "\n",
    "- Utilizamos para filtrar os recursos de uma API com base nos atributos de retorno\n",
    "\n",
    "    - Iniciado pelo caractere \"?\"\n",
    "    - Expressões Unidas pelo caractere \"&\"\n",
    "    \n",
    "Exemplo:\n",
    "> ?start_date=2023-09-12&pages=1&size=10\n",
    "\n",
    "Neste exemplo filtramos o campo start_date (\"Que fora inciialmente definido pelos desenvolvedores da API\") bem como adicionamos parâmetros de Paginação\n",
    "\n",
    "### Path Params\n",
    "\n",
    "- Utilizamos para filtras um recurso específico geralmente referenciado por seu ID\n",
    "    - É adicionado na própria URL da requisição como parte do path para o recurso\n",
    "    \n",
    "Exemplo:\n",
    "\n",
    "> http:api-host.com/v1/api/products/1\n",
    "\n",
    "Neste exemplo estamos buscando pelo produto de ID 1 através de um path param\n",
    "\n",
    "### Paginação\n",
    "\n",
    "- Utilizado quando precisamos reduzir o número de dados retornados por consulta\n",
    "    - Pode ser por limitação da própria API quanto de minha ferramenta de consumo\n",
    "    - Geralmente podemos definir número de páginas, seus respectivos tamanhos e qual página buscamos\n",
    "    \n",
    "Exemplo:\n",
    "\n",
    "> http:api-host.com/v1/api/products?skip=0&size=10\n",
    "\n",
    "Onde dizemos por ```skip``` que desejamos pular x elementos considerando o começo do retorno full e ```size``` determinando quantos recursos desejamos retornar, a automatização desse processo depende da implementação da API, onde algumas podem fornecer o número total de recursos, o número de páginas, etc"
   ]
  }
 ],
 "metadata": {
  "kernelspec": {
   "display_name": "Python 3 (ipykernel)",
   "language": "python",
   "name": "python3"
  },
  "language_info": {
   "codemirror_mode": {
    "name": "ipython",
    "version": 3
   },
   "file_extension": ".py",
   "mimetype": "text/x-python",
   "name": "python",
   "nbconvert_exporter": "python",
   "pygments_lexer": "ipython3",
   "version": "3.10.10"
  }
 },
 "nbformat": 4,
 "nbformat_minor": 5
}
