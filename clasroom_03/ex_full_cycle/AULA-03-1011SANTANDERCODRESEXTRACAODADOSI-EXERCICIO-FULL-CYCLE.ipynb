{
 "cells": [
  {
   "cell_type": "markdown",
   "id": "13a6d158-b911-482d-9e75-dfebb833f7f4",
   "metadata": {},
   "source": [
    "# Exercício de Integração ETL, ELT, APIs e Arquivos\n"
   ]
  },
  {
   "cell_type": "markdown",
   "id": "20107967-cfe2-4f0a-bf79-71a92bdfb549",
   "metadata": {
    "tags": []
   },
   "source": [
    "## Trabalho em Grupo\n",
    "\n",
    "Você trabalha em um e-commerce de variados produtos, e no último mês os gerentes operacionais da companhia notaram que\n",
    "houve uma variação muito grande em seus estoques por períodos de até 24h, cujos produtos, voltavam ao estoque\n",
    "no dia seguinte o que não caracterizava uma venda concretizada.\n",
    "Sabendo disso um dos diretores sugeriu um estudo sobre os carrinhos em aberto, e qual o perfil dos usuários que deixavam seus carrinhos em aberto, e para isso fora criada uma demanda para seu time.\n",
    "\n",
    "Para resulver esta demanda, você e seu time deverão realizar a ingestão dos dados de:\n",
    "\n",
    "- Usuários\n",
    "- Carrinhos\n",
    "\n",
    "Estes dados poderão ser obtidos através dos seguintes endpoints:\n",
    "\n",
    "- Usuários: https://dummyjson.com/auth/users\n",
    "- Carrinhos: https://dummyjson.com/auth/carts\n",
    "\n",
    "Lembrando que estes são endpoints seguros então você deverá realizar a autenticação através do seguinte endpoint: https://dummyjson.com/auth/login\n",
    "\n",
    "Lembre-se de verificar a documentação para obter mais detalhes do funcionamento dos endpoints https://dummyjson.com/docs/auth\n",
    "\n",
    "Após isso, os passos de tratamento do dado, serão:\n",
    "\n",
    "1. Após consumidos os dados, você deverá persistí-los utilizando a técnica aprendida em aula em uma pastas chamada raw no formato json\n",
    "\n",
    "2. Consumir sua camada raw e criar uma nova entidade que relacione os clientes aos carrihos através do atributo userId do seu carrinho e o atribute id da tabela users, feito isso gravar o resultado dessa agregação em uma pasta chamda kitchen\n",
    "\n",
    "3. Por fim você deverá contemplar se os dados gerados são capazes de responder as seguintes perguntas:\n",
    "\n",
    "   - Qual o estado de residencia possui clientes com mais carrinhos em aberto ?\n",
    "   - Qual a idade dos usuários com mais carrinhos em aberto ?\n",
    "   - Quais os produtos que mais aparecem em carrinhos em aberto ?\n",
    "\n",
    "OBS: **Não se preocupe em fazer uma análise aprofundade, o intuito desta atividade é exercitar a construção de um fluxo de ETL ou ELT utilizando os conceitos aprendidos em sala de aula, então concentrem seus esforços no fluxo de dados**\n"
   ]
  },
  {
   "cell_type": "code",
   "execution_count": null,
   "id": "a8572833",
   "metadata": {},
   "outputs": [],
   "source": [
    "import pandas as pd \n",
    "import requests\n",
    "import json\n",
    "\n",
    "def authenticate(login, senha):\n",
    "    login_response = requests.post(\n",
    "        url=\"https://dummyjson.com/auth/login\",\n",
    "        headers={\"Content-Type\": \"application/json\"},\n",
    "        data=json.dumps({\n",
    "            \"username\": login,\n",
    "            \"password\": senha,\n",
    "            \"expiresInMins\": 1\n",
    "        })\n",
    "    )\n",
    "    \n",
    "    return login_response.json()['token']\n",
    "  \n",
    "\n",
    "def get_authorization_headers():\n",
    "    access_token = authenticate(login=\"kminchelle\", senha=\"0lelplR\")\n",
    "    \n",
    "    authorization_header = {\n",
    "        \"Authorization\": f\"Bearer {access_token}\", \n",
    "        \"Content-Type\": \"application/json\"\n",
    "    }\n",
    "    \n",
    "    return authorization_header\n",
    "  \n",
    "def get_endpoint(url: str):\n",
    "    response = requests.get(\n",
    "        url=url, \n",
    "        headers=get_authorization_headers()\n",
    "    )\n",
    "    \n",
    "    return response.json() \n"
   ]
  },
  {
   "cell_type": "code",
   "execution_count": null,
   "id": "640c5ccb",
   "metadata": {},
   "outputs": [],
   "source": [
    "users = get_endpoint(\"https://dummyjson.com/auth/users\")\n",
    "carts = get_endpoint(\"https://dummyjson.com/auth/carts\")\n",
    "\n",
    "json_users = json.dumps(users)\n",
    "json_carts = json.dumps(carts)\n",
    "\n",
    "def file_convert_text(type: str, data: str, path: str):\n",
    "  with open(f\"../ex_full_cycle/{path}/{type}.json\", mode=\"w\") as file_to_write:\n",
    "    file_to_write.write(data)  \n",
    "    file_to_write.flush()\n",
    "    file_to_write.close()    \n",
    "    \n",
    "\n",
    "file_convert_text(\"users\", json_users, \"raw_full_cycle\")\n",
    "file_convert_text(\"carts\", json_carts, \"raw_full_cycle\")"
   ]
  },
  {
   "cell_type": "code",
   "execution_count": 33,
   "id": "32e4c1f8",
   "metadata": {},
   "outputs": [],
   "source": [
    "def file_open(type: str):\n",
    "  users_created = pd.read_json(f\"../ex_full_cycle/raw_full_cycle/{type}.json\", encoding=\"utf-8\")\n",
    "  return users_created\n",
    " \n",
    "\n",
    "get_users = file_open(\"users\")\n",
    "get_carts = file_open(\"carts\")\n",
    "\n",
    "expanded_users = pd.DataFrame(pd.json_normalize(get_users['users']))\n",
    "expanded_carts = pd.DataFrame(pd.json_normalize(get_carts['carts']))\n",
    "\n",
    "expanded_users.rename(columns={\"id\": \"userId\"}, inplace=True)\n",
    "\n",
    "join_merged = pd.merge(expanded_users, expanded_carts, on=\"userId\", how=\"inner\")\n",
    "json_string = join_merged.to_json(orient='records')\n",
    "\n",
    "file_convert_text(\"join_merged\", json_string, \"kitchen\")    "
   ]
  }
 ],
 "metadata": {
  "kernelspec": {
   "display_name": "Python 3 (ipykernel)",
   "language": "python",
   "name": "python3"
  },
  "language_info": {
   "codemirror_mode": {
    "name": "ipython",
    "version": 3
   },
   "file_extension": ".py",
   "mimetype": "text/x-python",
   "name": "python",
   "nbconvert_exporter": "python",
   "pygments_lexer": "ipython3",
   "version": "3.10.13"
  }
 },
 "nbformat": 4,
 "nbformat_minor": 5
}
