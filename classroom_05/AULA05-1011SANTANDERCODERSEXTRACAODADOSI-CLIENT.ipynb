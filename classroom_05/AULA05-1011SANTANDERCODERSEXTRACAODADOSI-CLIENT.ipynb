{
 "cells": [
  {
   "cell_type": "markdown",
   "id": "6825f6e1-274b-499a-a2a4-3e9289855714",
   "metadata": {},
   "source": [
    "# Aula 5 - Cliente Webhook\n"
   ]
  },
  {
   "cell_type": "code",
   "execution_count": 29,
   "id": "f0f463eb-cbf2-4ea8-b878-ef40d61f49e6",
   "metadata": {
    "tags": []
   },
   "outputs": [
    {
     "data": {
      "text/plain": [
       "201"
      ]
     },
     "execution_count": 29,
     "metadata": {},
     "output_type": "execute_result"
    }
   ],
   "source": []
  }
 ],
 "metadata": {
  "kernelspec": {
   "display_name": "Python 3 (ipykernel)",
   "language": "python",
   "name": "python3"
  },
  "language_info": {
   "codemirror_mode": {
    "name": "ipython",
    "version": 3
   },
   "file_extension": ".py",
   "mimetype": "text/x-python",
   "name": "python",
   "nbconvert_exporter": "python",
   "pygments_lexer": "ipython3",
   "version": "3.10.10"
  }
 },
 "nbformat": 4,
 "nbformat_minor": 5
}
